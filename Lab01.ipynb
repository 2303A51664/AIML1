{
  "nbformat": 4,
  "nbformat_minor": 0,
  "metadata": {
    "colab": {
      "provenance": [],
      "authorship_tag": "ABX9TyN3gwtcvlS6EsrUnbGDbRaN",
      "include_colab_link": true
    },
    "kernelspec": {
      "name": "python3",
      "display_name": "Python 3"
    },
    "language_info": {
      "name": "python"
    }
  },
  "cells": [
    {
      "cell_type": "markdown",
      "metadata": {
        "id": "view-in-github",
        "colab_type": "text"
      },
      "source": [
        "<a href=\"https://colab.research.google.com/github/2303A51664/AIML1/blob/main/Lab01.ipynb\" target=\"_parent\"><img src=\"https://colab.research.google.com/assets/colab-badge.svg\" alt=\"Open In Colab\"/></a>"
      ]
    },
    {
      "cell_type": "code",
      "execution_count": 2,
      "metadata": {
        "colab": {
          "base_uri": "https://localhost:8080/"
        },
        "id": "0ISYPlzQOUrb",
        "outputId": "b536123e-301d-48a6-de17-1041f0c3392f"
      },
      "outputs": [
        {
          "output_type": "stream",
          "name": "stdout",
          "text": [
            "[1 2 3 4 5 6]\n"
          ]
        }
      ],
      "source": [
        "#Implementing Lists using Numpy\n",
        "import numpy as np\n",
        "lst = [1,2,3,4,5,6]\n",
        "arr = np.array(lst)\n",
        "print(arr)\n",
        "\n"
      ]
    },
    {
      "cell_type": "code",
      "source": [
        "#Implementing Arrays using Numpy\n",
        "import numpy as np\n",
        "arr = np.array([1,2,3,4,5])\n",
        "print(arr)"
      ],
      "metadata": {
        "colab": {
          "base_uri": "https://localhost:8080/"
        },
        "id": "3t14Ea9aOuPI",
        "outputId": "e55933f7-5279-405d-97f8-65802a12b3c2"
      },
      "execution_count": 1,
      "outputs": [
        {
          "output_type": "stream",
          "name": "stdout",
          "text": [
            "[1 2 3 4 5]\n"
          ]
        }
      ]
    },
    {
      "cell_type": "code",
      "source": [
        "#Identifying type usinf \"type()\" method\n",
        "import numpy as np\n",
        "arr = np.array([1,2,3,4,5,6,7])\n",
        "print(type(arr))"
      ],
      "metadata": {
        "colab": {
          "base_uri": "https://localhost:8080/"
        },
        "id": "CpENUOcCPmhx",
        "outputId": "19ec995e-7613-4e1a-dbd6-1f4aae6ed9e0"
      },
      "execution_count": 3,
      "outputs": [
        {
          "output_type": "stream",
          "name": "stdout",
          "text": [
            "<class 'numpy.ndarray'>\n"
          ]
        }
      ]
    },
    {
      "cell_type": "code",
      "source": [
        "#Performing mathematical operations\n",
        "#1.Multiplication\n",
        "import numpy as np\n",
        "a = np.array([1,2,3])\n",
        "b = np.array([4,5,6])\n",
        "mul = np.multiply(a, b)\n",
        "print(mul)\n",
        "#2.division\n",
        "div = np.divide(a, b)\n",
        "print(div)\n",
        "#3.Poweroff\n",
        "power = np.power(a, b)\n",
        "print(power)"
      ],
      "metadata": {
        "colab": {
          "base_uri": "https://localhost:8080/"
        },
        "id": "_O4_mnLsP0hr",
        "outputId": "34d16b97-3ac0-4329-e712-4b722e4d6f39"
      },
      "execution_count": 4,
      "outputs": [
        {
          "output_type": "stream",
          "name": "stdout",
          "text": [
            "[ 4 10 18]\n",
            "[0.25 0.4  0.5 ]\n",
            "[  1  32 729]\n"
          ]
        }
      ]
    },
    {
      "cell_type": "code",
      "source": [
        "#Performing mathematical operations\n",
        "#1.Multiplication\n",
        "import numpy as np\n",
        "a = np.array([1,2,3])\n",
        "b = np.array([4,5,6])\n",
        "mul = np.multiply(a, b)\n",
        "print(mul)\n",
        "#2.division\n",
        "div = np.divide(a, b)\n",
        "print(div)\n",
        "#3.Poweroff\n",
        "power = np.power(a, b)\n",
        "print(power)"
      ],
      "metadata": {
        "colab": {
          "base_uri": "https://localhost:8080/"
        },
        "id": "xTaLU6tfRLVx",
        "outputId": "fb6e6f3e-ab9d-4d6d-a8c0-428b6dc84f84"
      },
      "execution_count": 5,
      "outputs": [
        {
          "output_type": "stream",
          "name": "stdout",
          "text": [
            "[ 4 10 18]\n",
            "[0.25 0.4  0.5 ]\n",
            "[  1  32 729]\n"
          ]
        }
      ]
    },
    {
      "cell_type": "code",
      "source": [
        "#Performing mathematical operations\n",
        "#1.Multiplication\n",
        "import numpy as np\n",
        "a = np.array([1,2,3])\n",
        "b = np.array([4,5,6])\n",
        "mul = np.multiply(a, b)\n",
        "print(mul)\n",
        "#2.division\n",
        "div = np.divide(a, b)\n",
        "print(div)\n",
        "#3.Poweroff\n",
        "power = np.power(a, b)\n",
        "print(power)"
      ],
      "metadata": {
        "colab": {
          "base_uri": "https://localhost:8080/"
        },
        "id": "NA_MXu7sRU4R",
        "outputId": "0aea6dbf-b676-4b59-9166-7999d994eb40"
      },
      "execution_count": 8,
      "outputs": [
        {
          "output_type": "stream",
          "name": "stdout",
          "text": [
            "[ 4 10 18]\n",
            "[0.25 0.4  0.5 ]\n",
            "[  1  32 729]\n"
          ]
        }
      ]
    },
    {
      "cell_type": "code",
      "source": [
        "#Implement Lists using Pandas\n",
        "import pandas as pd\n",
        "lst = [1,2,3,4]\n",
        "arr = pd.Series(lst)\n",
        "print(arr)"
      ],
      "metadata": {
        "colab": {
          "base_uri": "https://localhost:8080/"
        },
        "id": "uhCzYaNLRiOB",
        "outputId": "e0e0e9d6-32da-457e-fbda-0e193000b794"
      },
      "execution_count": 9,
      "outputs": [
        {
          "output_type": "stream",
          "name": "stdout",
          "text": [
            "0    1\n",
            "1    2\n",
            "2    3\n",
            "3    4\n",
            "dtype: int64\n"
          ]
        }
      ]
    },
    {
      "cell_type": "code",
      "source": [
        "#Implement arrays using pandas\n",
        "import pandas as pd\n",
        "arr = [1,2,3,4,5]\n",
        "arrays = pd.array(arr)\n",
        "print(arrays)\n",
        ""
      ],
      "metadata": {
        "colab": {
          "base_uri": "https://localhost:8080/"
        },
        "id": "8cu7ty_PRqM5",
        "outputId": "0b8e14b4-a993-4246-b6ef-2e180cd8127d"
      },
      "execution_count": 10,
      "outputs": [
        {
          "output_type": "stream",
          "name": "stdout",
          "text": [
            "<IntegerArray>\n",
            "[1, 2, 3, 4, 5]\n",
            "Length: 5, dtype: Int64\n"
          ]
        }
      ]
    },
    {
      "cell_type": "code",
      "source": [
        "#Identify thier type()\n",
        "import pandas as pd\n",
        "arr = [1,2,3,4,5]\n",
        "arr1 = [0.1, 2.3, 4.6]\n",
        "series = pd.Series(arr)#list in pandas does not have a datatype.\n",
        "series1 = pd.Series(arr1)#Hence must be converted to Series.\n",
        "data_type = series.dtype\n",
        "data_type1 = series1.dtype\n",
        "print(data_type)\n",
        "print(data_type1)"
      ],
      "metadata": {
        "colab": {
          "base_uri": "https://localhost:8080/"
        },
        "id": "JBu2JMMNR2Vr",
        "outputId": "d245f4e6-b649-428c-f0b2-9bf86629fc93"
      },
      "execution_count": 11,
      "outputs": [
        {
          "output_type": "stream",
          "name": "stdout",
          "text": [
            "int64\n",
            "float64\n"
          ]
        }
      ]
    },
    {
      "cell_type": "code",
      "source": [
        "#Combining texts\n",
        "import pandas as pd\n",
        "text1 = pd.Series([\"Addition of Two: \"])\n",
        "text2 = pd.Series([\"array1 + array2\"])\n",
        "print(text1.str.cat(text2))\n",
        ""
      ],
      "metadata": {
        "colab": {
          "base_uri": "https://localhost:8080/"
        },
        "id": "9AaBul-bR_4R",
        "outputId": "924acfc1-ee80-48ab-dffd-252dcf72d40c"
      },
      "execution_count": 12,
      "outputs": [
        {
          "output_type": "stream",
          "name": "stdout",
          "text": [
            "0    Addition of Two: array1 + array2\n",
            "dtype: object\n"
          ]
        }
      ]
    }
  ]
}